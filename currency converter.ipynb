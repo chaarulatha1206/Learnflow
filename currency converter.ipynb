{
  "nbformat": 4,
  "nbformat_minor": 0,
  "metadata": {
    "colab": {
      "private_outputs": true,
      "provenance": []
    },
    "kernelspec": {
      "name": "python3",
      "display_name": "Python 3"
    },
    "language_info": {
      "name": "python"
    }
  },
  "cells": [
    {
      "cell_type": "code",
      "execution_count": null,
      "metadata": {
        "id": "UVot4CunJq7P"
      },
      "outputs": [],
      "source": [
        "!pip install forex-python\n"
      ]
    },
    {
      "cell_type": "code",
      "source": [
        "!pip install requests\n",
        "!pip install simplejson\n",
        "!pip install forex-python\n"
      ],
      "metadata": {
        "id": "u5FvByX1KX0g"
      },
      "execution_count": null,
      "outputs": []
    },
    {
      "cell_type": "code",
      "source": [
        "from forex_python.converter import CurrencyRates\n",
        "\n",
        "class CurrencyConverter:\n",
        "    def __init__(self):\n",
        "        self.currency_rates = CurrencyRates()\n",
        "\n",
        "    def convert_currency(self, amount, from_currency, to_currency):\n",
        "        exchange_rate = self.currency_rates.get_rate(from_currency, to_currency)\n",
        "        converted_amount = amount * exchange_rate\n",
        "        return converted_amount\n",
        "\n",
        "\n",
        "if __name__ == \"__main__\":\n",
        "    converter = CurrencyConverter()\n",
        "\n",
        "\n",
        "    amount = float(input(\"Enter The Amount To Convert: \"))\n",
        "    from_currency = input(\"Enter The Source Currency Code : \").upper()\n",
        "    to_currency = input(\"Enter The Target Currency Code: \").upper()\n",
        "\n",
        "\n",
        "    result = converter.convert_currency(amount, from_currency, to_currency)\n",
        "\n",
        "\n",
        "    print(f\"{amount} {from_currency} is equal to {result:.2f} {to_currency}\")\n"
      ],
      "metadata": {
        "id": "V_8-Cay9J8g_"
      },
      "execution_count": null,
      "outputs": []
    }
  ]
}