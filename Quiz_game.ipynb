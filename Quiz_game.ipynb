{
  "nbformat": 4,
  "nbformat_minor": 0,
  "metadata": {
    "colab": {
      "private_outputs": true,
      "provenance": []
    },
    "kernelspec": {
      "name": "python3",
      "display_name": "Python 3"
    },
    "language_info": {
      "name": "python"
    }
  },
  "cells": [
    {
      "cell_type": "code",
      "execution_count": null,
      "metadata": {
        "id": "hj8IfsHlyI0x"
      },
      "outputs": [],
      "source": [
        "import random\n",
        "questions = [\n",
        "    {\n",
        "        \"question\": \"What is the capital of France?\",\n",
        "        \"options\": [\"Paris\", \"Berlin\", \"London\", \"Madrid\"],\n",
        "        \"answer\": \"Paris\"\n",
        "    },\n",
        "    {\n",
        "        \"question\": \"Which planet is known as the Red Planet?\",\n",
        "        \"options\": [\"Mars\", \"Jupiter\", \"Saturn\", \"Mercury\"],\n",
        "        \"answer\": \"Mars\"\n",
        "    },\n",
        "    {\n",
        "        \"question\": \"What is the largest mammal in the world?\",\n",
        "        \"options\": [\"Elephant\", \"Blue Whale\", \"Giraffe\", \"Hippopotamus\"],\n",
        "        \"answer\": \"Blue Whale\"\n",
        "    }\n",
        "]\n",
        "\n",
        "def present_question(q):\n",
        "    print(q[\"question\"])\n",
        "    for i, option in enumerate(q[\"options\"]):\n",
        "        print(f\"{i + 1}. {option}\")\n",
        "    user_answer = input(\"Your answer: \")\n",
        "    return user_answer.strip().lower() == q[\"answer\"].lower()\n",
        "\n",
        "def run_quiz(difficulty):\n",
        "    print(\"Welcome to Quiz Game!!\")\n",
        "    score = 0\n",
        "    for question in random.sample(questions, difficulty):\n",
        "        print(\"\\n\" + \"=\" * 20)\n",
        "        is_correct = present_question(question)\n",
        "        if is_correct:\n",
        "            print(\"Correct!\")\n",
        "            score += 1\n",
        "        else:\n",
        "            print(\"Incorrect!\")\n",
        "            print(f\"The correct answer is: {question['answer']}\")\n",
        "    print(\"\\n\" + \"=\" * 20)\n",
        "    print(f\"Quiz ended! Your score is: {score}/{difficulty}\")\n",
        "\n",
        "\n",
        "def main():\n",
        "    difficulty_levels = {\n",
        "        \"Easy\": 1,\n",
        "        \"Medium\": 2,\n",
        "        \"Hard\": 3\n",
        "    }\n",
        "\n",
        "    print(\"Select Your level:\")\n",
        "    for level, value in difficulty_levels.items():\n",
        "        print(f\"{level.capitalize()}: {value}\")\n",
        "\n",
        "    selected_level = input(\"Enter Your Choice: \").lower()\n",
        "    difficulty = difficulty_levels.get(selected_level, 1)\n",
        "\n",
        "    run_quiz(difficulty)\n",
        "\n",
        "if __name__ == \"__main__\":\n",
        "    main()\n"
      ]
    }
  ]
}