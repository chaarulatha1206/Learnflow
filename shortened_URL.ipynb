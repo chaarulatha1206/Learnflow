{
  "nbformat": 4,
  "nbformat_minor": 0,
  "metadata": {
    "colab": {
      "private_outputs": true,
      "provenance": []
    },
    "kernelspec": {
      "name": "python3",
      "display_name": "Python 3"
    },
    "language_info": {
      "name": "python"
    }
  },
  "cells": [
    {
      "cell_type": "code",
      "source": [
        "pip install pyshorteners"
      ],
      "metadata": {
        "id": "HGFwaEFZEXiO"
      },
      "execution_count": null,
      "outputs": []
    },
    {
      "cell_type": "code",
      "source": [
        "import hashlib\n",
        "import pyshorteners\n",
        "\n",
        "def base62_encode(number):\n",
        "    characters = \"0123456789abcdefghijklmnopqrstuvwxyzABCDEFGHIJKLMNOPQRSTUVWXYZ\"\n",
        "    base62 = \"\"\n",
        "\n",
        "    while number:\n",
        "        number, remainder = divmod(number, 62)\n",
        "        base62 = characters[remainder] + base62\n",
        "\n",
        "    return base62 or characters[0]\n",
        "\n",
        "class URLShortener:\n",
        "    def __init__(self):\n",
        "        self.url_mapping = {}\n",
        "        self.s = pyshorteners.Shortener()\n",
        "\n",
        "    def shorten_url(self, long_url):\n",
        "\n",
        "        hash_object = hashlib.md5(long_url.encode())\n",
        "        hash_hex = hash_object.hexdigest()\n",
        "        hash_int = int(hash_hex, 16)\n",
        "        short_url = base62_encode(hash_int)\n",
        "\n",
        "\n",
        "        tiny_url = self.s.tinyurl.short(long_url)\n",
        "\n",
        "        self.url_mapping[short_url] = long_url\n",
        "        return tiny_url\n",
        "\n",
        "    def redirect(self, short_url):\n",
        "\n",
        "        return self.url_mapping.get(short_url, \"Short URL not found.\")\n",
        "\n",
        "\n",
        "if __name__ == \"__main__\":\n",
        "    shortener = URLShortener()\n",
        "\n",
        "\n",
        "    long_url = input(\"Enter the long URL: \")\n",
        "\n",
        "\n",
        "    short_url = shortener.shorten_url(long_url)\n",
        "    print(f\"Short URL: {short_url}\")\n",
        "\n",
        "\n"
      ],
      "metadata": {
        "id": "oud_o3DfHMhE"
      },
      "execution_count": null,
      "outputs": []
    }
  ]
}